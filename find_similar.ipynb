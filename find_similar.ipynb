{
 "cells": [
  {
   "cell_type": "code",
   "execution_count": 1,
   "metadata": {
    "collapsed": false
   },
   "outputs": [
    {
     "name": "stderr",
     "output_type": "stream",
     "text": [
      "/home/guest_aashay/.local/lib/python2.7/site-packages/requests/__init__.py:83: RequestsDependencyWarning: Old version of cryptography ([1, 2, 3]) may cause slowdown.\n",
      "  warnings.warn(warning, RequestsDependencyWarning)\n"
     ]
    }
   ],
   "source": [
    "from collections import *\n",
    "from gensim.test.utils import common_texts, get_tmpfile\n",
    "from gensim.models import Word2Vec,KeyedVectors\n",
    "from gensim.test.utils import datapath\n",
    "from nltk.corpus import wordnet\n",
    "import pdb\n"
   ]
  },
  {
   "cell_type": "code",
   "execution_count": 3,
   "metadata": {
    "collapsed": false
   },
   "outputs": [],
   "source": [
    "\n",
    "# wvec = KeyedVectors.load_word2vec_format(\"../btp2/datasets/GoogleNews-vectors-negative300.bin\", binary=True)\n"
   ]
  },
  {
   "cell_type": "code",
   "execution_count": 10,
   "metadata": {
    "collapsed": false
   },
   "outputs": [],
   "source": [
    "class find_similar:\n",
    "    def __init__(self):\n",
    "        return\n",
    "\n",
    "    def most_similar(self,word,seedverbs,wvec):\n",
    "        if word in seedverbs:\n",
    "            return word\n",
    "        synverb =[]\n",
    "        antoverb = []\n",
    "        category = 'v'\n",
    "        synsetsForWord = wordnet.synsets(word, pos=category)\n",
    "        syall = wordnet.synsets(word)\n",
    "        for syn in synsetsForWord:\n",
    "            for l in syn.lemmas():\n",
    "                synverb.append(l.name())\n",
    "                if l.antonyms():\n",
    "                    antoverb.append(l.antonyms()[0].name())\n",
    "        msimilar = wvec.most_similar(word)\n",
    "#         print msimilar\n",
    "        for i in msimilar:\n",
    "            if i[0] not in antoverb and i[0] in synverb and i[0] in seedverbs:\n",
    "                return i[0]\n",
    "            if (i[0] in synverb and i[0] in seedverbs):\n",
    "                return i[0] \n",
    "\n",
    "        else:\n",
    "            for i in synverb:\n",
    "                if i in seedverbs:\n",
    "                    return i\n",
    "            for i in msimilar:\n",
    "                if i[0] not in antoverb and i[0] in seedverbs:\n",
    "                    return i[0]\n",
    "            maxv = -1\n",
    "            maxword = \"\"\n",
    "\n",
    "            for i in seedverbs:\n",
    "                if wvec.similarity(word,i) > maxv and i not in antoverb:\n",
    "                    maxv= wvec.similarity(word,i)\n",
    "                    maxword  = i\n",
    "            return maxword\n"
   ]
  },
  {
   "cell_type": "code",
   "execution_count": 11,
   "metadata": {
    "collapsed": false
   },
   "outputs": [
    {
     "data": {
      "text/plain": [
       "'find'"
      ]
     },
     "execution_count": 11,
     "metadata": {},
     "output_type": "execute_result"
    }
   ],
   "source": [
    "# from nltk.corpus import wordnet\n",
    "\n",
    "# fl = open(\"small_verb.txt\")\n",
    "# seedverbs = []\n",
    "# seedtype = {}\n",
    "# for line in fl:\n",
    "#     seedtype[line.split()[0]] = line.split()[1]\n",
    "#     line = line.strip().split(\" \")[0]\n",
    "#     seedverbs.append(line.split()[0])\n",
    "# x= find_similar()\n",
    "# x.most_similar('find',seedverbs,wvec)\n"
   ]
  },
  {
   "cell_type": "code",
   "execution_count": null,
   "metadata": {
    "collapsed": false
   },
   "outputs": [],
   "source": [
    "# seedtype[most_similar('fetch',seedverbs,wvec)]\n",
    "# print seedtype\n",
    "# print wvec.most_similar(\"possess\")"
   ]
  },
  {
   "cell_type": "code",
   "execution_count": null,
   "metadata": {
    "collapsed": false
   },
   "outputs": [],
   "source": [
    "# wvec.similarity(\"love\",\"hate\")"
   ]
  }
 ],
 "metadata": {
  "kernelspec": {
   "display_name": "Python 2",
   "language": "python",
   "name": "python2"
  },
  "language_info": {
   "codemirror_mode": {
    "name": "ipython",
    "version": 2
   },
   "file_extension": ".py",
   "mimetype": "text/x-python",
   "name": "python",
   "nbconvert_exporter": "python",
   "pygments_lexer": "ipython2",
   "version": "2.7.12"
  }
 },
 "nbformat": 4,
 "nbformat_minor": 1
}
